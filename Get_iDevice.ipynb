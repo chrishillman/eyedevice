{
 "cells": [
  {
   "cell_type": "code",
   "execution_count": 1,
   "id": "697ff23f",
   "metadata": {},
   "outputs": [],
   "source": [
    "import pandas as pd\n",
    "from bs4 import BeautifulSoup\n",
    "import urllib\n",
    "import html5lib"
   ]
  },
  {
   "cell_type": "code",
   "execution_count": 2,
   "id": "36f420cc",
   "metadata": {},
   "outputs": [],
   "source": [
    "ideviceurl = \"https://www.theiphonewiki.com/wiki/Models\"\n"
   ]
  },
  {
   "cell_type": "code",
   "execution_count": 33,
   "id": "96573a1c",
   "metadata": {},
   "outputs": [
    {
     "name": "stdout",
     "output_type": "stream",
     "text": [
      "dflist appended\n",
      "dflist appended\n",
      "dflist appended\n",
      "Skipped\n",
      "dflist appended\n",
      "dflist appended\n",
      "dflist appended\n",
      "Skipped\n",
      "Skipped\n",
      "dflist appended\n",
      "dflist appended\n",
      "dflist appended\n",
      "dflist appended\n",
      "dflist appended\n",
      "dflist appended\n",
      "dflist appended\n",
      "dflist appended\n",
      "dflist appended\n",
      "dflist appended\n"
     ]
    }
   ],
   "source": [
    "html_table = urllib.request.urlopen(ideviceurl).read()\n",
    "\n",
    "# fix HTML\n",
    "soup = BeautifulSoup(html_table, \"html.parser\")\n",
    "dflist = []\n",
    "for table in soup.find_all(\"table\", {\"class\": \"wikitable\"}):\n",
    "    if table:\n",
    "        try:\n",
    "            thisdf = pd.read_html(str(table), flavor=\"bs4\")[0]\n",
    "            if thisdf['Identifier'][0] != 'Unknown':\n",
    "                dflist.append(thisdf)\n",
    "                print(\"dflist appended\")\n",
    "            else:\n",
    "                print(\"Skipped\")\n",
    "        except Exception as e:\n",
    "            print(f\"ERROR: {e}\")"
   ]
  },
  {
   "cell_type": "code",
   "execution_count": 36,
   "id": "7bbfd716",
   "metadata": {},
   "outputs": [
    {
     "name": "stdout",
     "output_type": "stream",
     "text": [
      "AirPods (1st generation)\n",
      "AirTag\n",
      "Apple TV (1st generation)\n",
      "Apple Watch (1st generation)\n",
      "HomePod\n",
      "iPad\n",
      "iPad Air\n",
      "iPad Pro (12.9-inch)\n",
      "iPad mini\n",
      "iPhone\n",
      "iPod touch\n",
      "iMac (24-inch, M1, 2021)\n",
      "Mac mini (M1, 2020)\n",
      "MacBook Air (Late 2020)\n",
      "MacBook Pro (13-inch, M1, 2020)\n",
      "Mac Studio (M1 Max, 2022)\n"
     ]
    }
   ],
   "source": [
    "for df in dflist:\n",
    "    print(df['Generation'][0])\n",
    "    if df['Generation'][0] == '?':\n",
    "        print(df)"
   ]
  },
  {
   "cell_type": "code",
   "execution_count": 39,
   "id": "91c585fb",
   "metadata": {},
   "outputs": [
    {
     "name": "stdout",
     "output_type": "stream",
     "text": [
      "AirPods.csv\n",
      "AirTag.csv\n",
      "AppleTV.csv\n",
      "AppleWatch.csv\n",
      "HomePod.csv\n",
      "iPad.csv\n",
      "iPadAir.csv\n",
      "iPadPro.csv\n",
      "iPadmini.csv\n",
      "iPhone.csv\n",
      "iPodtouch.csv\n",
      "iMac.csv\n",
      "Macmini.csv\n",
      "MacBookAir.csv\n",
      "MacBookPro.csv\n",
      "MacStudio.csv\n"
     ]
    }
   ],
   "source": [
    "for devicedf in dflist:\n",
    "    filename = \"\".join(devicedf['Generation'][0].split(\" \"))\n",
    "    filename = filename.split(\"(\")[0]\n",
    "    filename = filename + \".csv\"\n",
    "    print(filename)\n",
    "    devicedf.to_csv(filename)"
   ]
  }
 ],
 "metadata": {
  "kernelspec": {
   "display_name": "Python 3 (ipykernel)",
   "language": "python",
   "name": "python3"
  },
  "language_info": {
   "codemirror_mode": {
    "name": "ipython",
    "version": 3
   },
   "file_extension": ".py",
   "mimetype": "text/x-python",
   "name": "python",
   "nbconvert_exporter": "python",
   "pygments_lexer": "ipython3",
   "version": "3.8.9"
  }
 },
 "nbformat": 4,
 "nbformat_minor": 5
}
